{
 "cells": [
  {
   "cell_type": "markdown",
   "id": "4a47b5eb-07f0-406d-8a52-4765f42a6bdc",
   "metadata": {},
   "source": [
    "# Teoría de Decisiones: Modelo Schelling con Sugarscape.\n",
    "    \n",
    "- Eduardo Carrasco."
   ]
  },
  {
   "cell_type": "markdown",
   "id": "617ca407-d5ed-40b8-9879-de6bb75b30d4",
   "metadata": {},
   "source": [
    "## Librerías Base:"
   ]
  },
  {
   "cell_type": "code",
   "execution_count": 1,
   "id": "df42f717-9e77-4dbc-b2e2-81460e7a7b90",
   "metadata": {},
   "outputs": [],
   "source": [
    "import matplotlib.colors as mcolors\n",
    "import os\n",
    "import numpy as np\n",
    "import matplotlib.pyplot as plt\n",
    "import imageio\n",
    "import random\n",
    "import pandas as pd\n",
    "from scipy.stats import entropy\n",
    "from scipy.ndimage import label"
   ]
  },
  {
   "cell_type": "markdown",
   "id": "f0c8a39d-1f12-41a3-93e4-81857b897509",
   "metadata": {
    "tags": []
   },
   "source": [
    "## 1. Definición de funciones (1ra Línea de Investigación - Modelo Tolerancia):"
   ]
  },
  {
   "cell_type": "code",
   "execution_count": 2,
   "id": "bf08e5d1-2e73-4e51-bb46-f8fa7b2e867e",
   "metadata": {},
   "outputs": [],
   "source": [
    "def inicializar_grilla(n, p):\n",
    "    \"\"\"\n",
    "    Inicializa una grilla bidimensional con celdas vacías, \n",
    "    azules y rojas según las probabilidades proporcionadas.\n",
    "    Args:\n",
    "        n (int): Tamaño de la grilla (n x n).\n",
    "        p (list): Lista de probabilidades [p_vacía, p_azul, p_roja].\n",
    "\n",
    "    Returns:\n",
    "        np.ndarray: Grilla inicializada.\n",
    "    \"\"\"\n",
    "    grilla = np.random.choice([0, 1, 2], size=(n, n), p=p)\n",
    "    return grilla\n",
    "\n",
    "def vecindad(posicion, grilla):\n",
    "    \"\"\"\n",
    "    Determina una vecindad de Moore\n",
    "    posicion (x,y) : celda a la cual vamos a conocer sus vecinos\n",
    "    grilla : grilla para conocer vecinos\n",
    "    \"\"\"\n",
    "    n,n = grilla.shape\n",
    "    x, y = posicion\n",
    "    vecindad = { \"N\":  grilla[(x-1) % n , y ],      ## % n para que se mantenga dentro: genera un toroide\n",
    "                 \"E\":  grilla[ x , (y+1) % n] , \n",
    "                 \"S\":  grilla[(x+1) % n , y ],\n",
    "                 \"O\":  grilla[ x , (y-1) % n],\n",
    "                 \"NO\": grilla[(x-1) % n , (y-1) % n],\n",
    "                 \"NE\": grilla[(x-1) % n , (y+1) % n],\n",
    "                 \"SO\": grilla[(x+1) % n , (y-1) % n],\n",
    "                 \"SE\": grilla[(x+1) % n , (y+1) % n]}\n",
    "    return vecindad\n",
    "\n",
    "def felicidad(posicion, grilla, t):\n",
    "    \"\"\"\n",
    "    Calculo de felicidad de una celda\n",
    "    posicion(x,y) : posicion a al cual vamos a determinar la felicidad, \n",
    "    dado si la cantidad de celdas iguales es igual o mayor a t (tolerancia)\n",
    "    grilla : grilla base\n",
    "    t: Cantidad de vecinos que soporta una celula para estar feliz. \n",
    "    Si la cantidad de vecinos difetentes a ella es menor a t, la celula esta feliz\n",
    "    \"\"\"\n",
    "    nb = vecindad(posicion, grilla)\n",
    "    cantidad_diferentes = 0\n",
    "    \n",
    "    for i in nb:\n",
    "        if grilla[posicion] != nb[i] and grilla[posicion] != 0 and  nb[i]!=0:  \n",
    "            # Si el vecino es diferente al individuo central suma 1\n",
    "            cantidad_diferentes += 1\n",
    "    if cantidad_diferentes <= t:         \n",
    "        # si la cantidad de celdas diferentes de la vecindad es menor al umbral el individuo es feliz\n",
    "        return True\n",
    "    elif grilla[posicion] == 0:          \n",
    "        # asume celdas cero felices por lo que los ceros no se mueven\n",
    "        return True\n",
    "    else:\n",
    "        return False\n",
    "    \n",
    "def encontrar_celdas_infelices(grilla, t):\n",
    "    \"\"\"\n",
    "    Encuentra todas las celdas infelices en la grilla según la tolerancia t.\n",
    "\n",
    "    Args:\n",
    "        grilla (np.ndarray): Grilla bidimensional.\n",
    "        t (int): Tolerancia.\n",
    "\n",
    "    Returns:\n",
    "        list: Lista de índices de celdas infelices.\n",
    "    \"\"\"\n",
    "    celdas_infelices = []\n",
    "    n = grilla.shape[0]\n",
    "    for i in range(n):\n",
    "        for j in range(n):\n",
    "            posicion = (i,j)\n",
    "            if grilla[posicion ] != 0 and felicidad(posicion, grilla, t) == False:\n",
    "                celdas_infelices.append(posicion)  # Convertir a índice unidimensional\n",
    "    return celdas_infelices\n",
    "\n",
    "def movimiento(posicion, grilla):\n",
    "    x , y = posicion \n",
    "    grilla_aux = grilla.copy()\n",
    "    direccion = [ \"N\", \"E\" ,\"S\",\"O\", \"NO\",\"NE\", \"SO\", \"SE\"]\n",
    "    nb =  vecindad(posicion, grilla_aux)\n",
    "    np.random.shuffle(direccion)\n",
    "    for i in direccion:\n",
    "        if nb[i] == 0:\n",
    "            if i == \"N\":  \n",
    "                grilla_aux[(x-1) % n , y ] = grilla_aux[posicion]\n",
    "                grilla_aux[posicion] =0\n",
    "            elif i == \"E\":  \n",
    "                grilla_aux[ x , (y+1) % n] = grilla_aux[posicion]\n",
    "                grilla_aux[posicion] =0\n",
    "            elif i == \"S\":  \n",
    "                grilla_aux[(x+1) % n , y ] = grilla_aux[posicion]\n",
    "                grilla_aux[posicion] =0\n",
    "            elif i ==\"O\":  \n",
    "                grilla_aux[ x , (y-1) % n] = grilla_aux[posicion]\n",
    "                grilla_aux[posicion] =0\n",
    "            elif i ==\"NO\": \n",
    "                grilla_aux[(x-1) % n , (y-1) % n]= grilla_aux[posicion]\n",
    "                grilla_aux[posicion] =0\n",
    "            elif i ==\"NE\": \n",
    "                grilla_aux[(x-1) % n , (y+1) % n]= grilla_aux[posicion]\n",
    "                grilla_aux[posicion] =0\n",
    "            elif i ==\"SO\": \n",
    "                grilla_aux[(x+1) % n , (y-1) % n]= grilla_aux[posicion]\n",
    "                grilla_aux[posicion] =0\n",
    "            else:\n",
    "                grilla_aux[(x+1) % n , (y+1) % n]= grilla_aux[posicion]\n",
    "                grilla_aux[posicion] =0\n",
    "                \n",
    "    return grilla_aux    \n",
    "    \n",
    "\n",
    "def crear_gif(automata, n, pasos, p):\n",
    "    nombre_archivo = f\"SAKODA_size{n}_pasos{pasos}_dist{p}.gif\"\n",
    "\n",
    "    # Crear un mapa de colores personalizado\n",
    "    cmap = mcolors.ListedColormap(['white', 'blue', 'red'])\n",
    "\n",
    "    imagenes = []\n",
    "    for idx, matriz in enumerate(automata):\n",
    "        imagen = plt.imshow(matriz, cmap=cmap, interpolation='nearest', vmin=0, vmax=2)\n",
    "        titulo = f\"Generación {idx} \\nDistr (vacio,azul,rojo) {p}\"\n",
    "        plt.title(titulo)\n",
    "        plt.axis('on')\n",
    "        filename = \"temp.png\"\n",
    "        plt.savefig(filename)\n",
    "        plt.close()\n",
    "\n",
    "        image = imageio.v2.imread(filename)\n",
    "        os.remove(filename)\n",
    "        imagenes.append(image)\n",
    "\n",
    "    imageio.mimsave(nombre_archivo, imagenes, fps=10)\n",
    "    \n",
    "def modelo_sakoda_schelling(n, p, t, pasos):\n",
    "    \"\"\"\n",
    "    Ejecuta el modelo de Sakoda/Schelling y devuelve una lista de grillas.\n",
    "\n",
    "    Args:\n",
    "        n (int): Tamaño de la grilla (n x n).\n",
    "        p (list): Lista de probabilidades [p_vacía, p_azul, p_roja].\n",
    "        t (int): Tolerancia.\n",
    "        pasos (int): Número de pasos a ejecutar.\n",
    "\n",
    "    Returns:\n",
    "        list: Lista de grillas.\n",
    "    \"\"\"\n",
    "    grilla = inicializar_grilla(n, p)\n",
    "    grillas = [grilla.copy()]  # Agregar la grilla inicial a la lista de grillas\n",
    "    \n",
    "    for s in range(pasos):\n",
    "        celdas_infelices = encontrar_celdas_infelices(grillas[-1], t)\n",
    "        if len(celdas_infelices) == 0:\n",
    "            break\n",
    "        celda = random.choice(celdas_infelices)\n",
    "        nueva_grilla = movimiento(celda, grillas[-1])\n",
    "        grillas.append(nueva_grilla)  # Agregar la grilla actualizada a la lista de grillas\n",
    "    \n",
    "    return grillas\n",
    "\n",
    "def calcular_infelices(automata, t):\n",
    "    \"\"\"\n",
    "    Calcula la cantidad de celdas infelices en cada paso.\n",
    "\n",
    "    Args:\n",
    "        automata (list): Lista de grillas.\n",
    "        t (int): Tolerancia.\n",
    "\n",
    "    Returns:\n",
    "        list: Lista de cantidades de celdas infelices.\n",
    "    \"\"\"\n",
    "    infelices = []\n",
    "    for grilla in automata:\n",
    "        celdas_infelices = encontrar_celdas_infelices(grilla, t)\n",
    "        infelices.append(len(celdas_infelices))\n",
    "    return infelices"
   ]
  },
  {
   "cell_type": "markdown",
   "id": "fa2300b8-3ffe-4f44-88bf-6c11a1f7d33a",
   "metadata": {},
   "source": [
    "### 1.1. Definición de Parámetros y Simulación:"
   ]
  },
  {
   "cell_type": "code",
   "execution_count": 3,
   "id": "f4bc1b6b-7c61-43c8-ac17-16e6aaf4aa3c",
   "metadata": {},
   "outputs": [
    {
     "data": {
      "text/plain": [
       "10001"
      ]
     },
     "execution_count": 3,
     "metadata": {},
     "output_type": "execute_result"
    }
   ],
   "source": [
    "random.seed(123)  # semilla random\n",
    "np.random.seed(123)  # semilla NumPy\n",
    "\n",
    "# Parámetros de entrada\n",
    "n = 30  # Tamaño de la grilla (n x n)\n",
    "p = [0.2, 0.4, 0.4]  # Probabilidad de celdas vacías, azules y rojas respectivamente\n",
    "t = 2  # Tolerancia\n",
    "pasos =10000 # Número de pasos\n",
    "\n",
    "# Ejecutar el modelo de Sakoda/Schelling\n",
    "automata = modelo_sakoda_schelling(n, p, t, pasos)\n",
    "\n",
    "# Calcular la cantidad de celdas infelices en cada paso\n",
    "infelices = calcular_infelices(automata, t)\n",
    "\n",
    "len(automata)"
   ]
  },
  {
   "cell_type": "markdown",
   "id": "58943efc-2de2-48e6-ac89-069831e923f3",
   "metadata": {},
   "source": [
    "### 1.2. Generación de Gráfico:"
   ]
  },
  {
   "cell_type": "code",
   "execution_count": 4,
   "id": "62007482-d779-4eb6-83c7-f84a22651718",
   "metadata": {},
   "outputs": [
    {
     "data": {
      "image/png": "[encoded data removed]",
      "text/plain": [
       "<Figure size 1300x600 with 30 Axes>"
      ]
     },
     "metadata": {},
     "output_type": "display_data"
    }
   ],
   "source": [
    "# Definir tamaño de la figura\n",
    "\n",
    "iter_figuras = (0,50,100,200,800,1000,2500,5000,7500,10000)\n",
    "fig, axes = plt.subplots(2,5, figsize = (13,6)) #    tres gráficos en una fila, ajustar según página d eword\n",
    "\n",
    "for h in range(2):\n",
    "    for g in range(5):\n",
    "        axes[h,g].set_axis_off()\n",
    "            \n",
    "    for j in range(len(iter_figuras)):\n",
    "        ax = fig.add_subplot(2, 5, j+1)       # i+1 porque los subplots se numeran desde 1\n",
    "        cmap = mcolors.ListedColormap(['white', 'blue', 'red'])\n",
    "        plt.imshow(automata[iter_figuras[j]], cmap=cmap, vmin=0, vmax=2, interpolation='nearest')\n",
    "        ax.set_title(\"it: \"+ str(iter_figuras[j]))\n",
    "        ax.axis('off')\n",
    "        # Ajustar la disposición de los subplots y mostrar la figura\n",
    "    fig.tight_layout()"
   ]
  },
  {
   "cell_type": "markdown",
   "id": "7e29fa88-8972-43df-8977-c46643c185f8",
   "metadata": {},
   "source": [
    "### 1.3. Métricas:"
   ]
  },
  {
   "cell_type": "markdown",
   "id": "7c3e9dc3-f407-4bfa-9867-9cc36037f08d",
   "metadata": {},
   "source": [
    "#### 1.3.1. Cantidad de Infelices en el tiempo:"
   ]
  },
  {
   "cell_type": "code",
   "execution_count": 5,
   "id": "e37d94dc-2573-4310-ae92-97321d23718f",
   "metadata": {},
   "outputs": [
    {
     "data": {
      "image/png": "[encoded data removed]",
      "text/plain": [
       "<Figure size 800x400 with 1 Axes>"
      ]
     },
     "metadata": {},
     "output_type": "display_data"
    }
   ],
   "source": [
    "# Crear una figura y un eje\n",
    "fig, ax = plt.subplots(figsize=(8, 4))\n",
    "\n",
    "# Graficar la cantidad de celdas infelices\n",
    "ax.plot(infelices, label='Celdas infelices')\n",
    "\n",
    "# Configurar el gráfico\n",
    "ax.set_xlabel('Iteración')\n",
    "ax.set_ylabel('Cantidad de Infelices')\n",
    "ax.set_title('Celdas Infelices en el Tiempo')\n",
    "ax.grid()\n",
    "ax.legend()\n",
    "\n",
    "# Mostrar el gráfico\n",
    "plt.show()"
   ]
  },
  {
   "cell_type": "markdown",
   "id": "411d47fe-3817-49c2-8985-aba1aedb6d5f",
   "metadata": {},
   "source": [
    "### 1.4. Creación Gif:"
   ]
  },
  {
   "cell_type": "code",
   "execution_count": null,
   "id": "5461634e-bf75-4c65-87cf-725590a0c12a",
   "metadata": {},
   "outputs": [],
   "source": [
    "### gif con saltos; ojo con la ram, \n",
    "\n",
    "def crear_gif(automata, n, pasos, p):\n",
    "    nombre_archivo = f\"SAKODA_size{n}_pasos{pasos}_dist{p}.gif\"\n",
    "\n",
    "    # Crear un mapa de colores personalizado\n",
    "    cmap = mcolors.ListedColormap(['white', 'blue', 'red'])\n",
    "\n",
    "    imagenes = []\n",
    "    for idx, matriz in enumerate(automata):\n",
    "        imagen = plt.imshow(matriz, cmap=cmap, interpolation='nearest', vmin=0, vmax=2)\n",
    "        titulo = f\"Generación {idx} \\nDistr (vacio,azul,rojo) {p}\"\n",
    "        plt.title(titulo)\n",
    "        plt.axis('off')\n",
    "        filename = \"temp1.png\"\n",
    "        plt.savefig(filename, dpi=50)  ## disminuyo dpi se vuelve más feo pero nmenos pesado\n",
    "        plt.close()\n",
    "\n",
    "        image = imageio.v2.imread(filename)\n",
    "        os.remove(filename)\n",
    "        imagenes.append(image)\n",
    "        \n",
    "    salto = 25        # Saltar cuadros (cambiar según la velocidad deseada)\n",
    "    imagenes_reducidas = imagenes[::salto]  # Obtener una lista reducida de cuadros\n",
    "\n",
    "    imageio.mimsave(nombre_archivo, imagenes_reducidas, fps=100) \n",
    "    \n",
    "crear_gif(automata, n, pasos, p)"
   ]
  },
  {
   "cell_type": "markdown",
   "id": "1784dbad-1d1e-468f-a202-d8c19cd07694",
   "metadata": {},
   "source": [
    "________"
   ]
  },
  {
   "cell_type": "markdown",
   "id": "a9ba66aa-4f9f-45e3-8f85-d4a9405cec25",
   "metadata": {},
   "source": [
    "____"
   ]
  },
  {
   "cell_type": "markdown",
   "id": "b092b6ba-0bbd-4ae4-afd8-e4654462619e",
   "metadata": {},
   "source": [
    "_____"
   ]
  },
  {
   "cell_type": "code",
   "execution_count": null,
   "id": "b875b6bd-a2a7-4b65-bb9e-d7d1ea23ae3f",
   "metadata": {},
   "outputs": [],
   "source": []
  }
 ],
 "metadata": {
  "kernelspec": {
   "display_name": "Python 3 (ipykernel)",
   "language": "python",
   "name": "python3"
  },
  "language_info": {
   "codemirror_mode": {
    "name": "ipython",
    "version": 3
   },
   "file_extension": ".py",
   "mimetype": "text/x-python",
   "name": "python",
   "nbconvert_exporter": "python",
   "pygments_lexer": "ipython3",
   "version": "3.11.3"
  },
  "widgets": {
   "application/vnd.jupyter.widget-state+json": {
    "state": {},
    "version_major": 2,
    "version_minor": 0
   }
  }
 },
 "nbformat": 4,
 "nbformat_minor": 5
}
